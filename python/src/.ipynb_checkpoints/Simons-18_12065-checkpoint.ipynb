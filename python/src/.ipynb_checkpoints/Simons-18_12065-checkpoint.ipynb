{
 "cells": [
  {
   "cell_type": "code",
   "execution_count": null,
   "id": "62f55336",
   "metadata": {},
   "outputs": [],
   "source": [
    "!pip install git+https://github.com/qiskit-community/qiskit-textbook.git#subdirectory=qiskit-textbook-src"
   ]
  },
  {
   "cell_type": "code",
   "execution_count": null,
   "id": "dfc7af05",
   "metadata": {},
   "outputs": [],
   "source": [
    "# initialization\n",
    "import numpy as np\n",
    "\n",
    "# importing Qiskit\n",
    "from qiskit import IBMQ, Aer\n",
    "from qiskit.providers.ibmq import least_busy\n",
    "from qiskit import QuantumCircuit, assemble, transpile\n",
    "from qiskit import ClassicalRegister, QuantumRegister,QuantumCircuit,execute,Aer\n",
    "# import basic plot tools\n",
    "from qiskit.visualization import plot_histogram\n",
    "import matplotlib.pyplot as plt"
   ]
  }
 ],
 "metadata": {
  "kernelspec": {
   "display_name": "Python 3 (ipykernel)",
   "language": "python",
   "name": "python3"
  },
  "language_info": {
   "codemirror_mode": {
    "name": "ipython",
    "version": 3
   },
   "file_extension": ".py",
   "mimetype": "text/x-python",
   "name": "python",
   "nbconvert_exporter": "python",
   "pygments_lexer": "ipython3",
   "version": "3.8.12"
  }
 },
 "nbformat": 4,
 "nbformat_minor": 5
}
