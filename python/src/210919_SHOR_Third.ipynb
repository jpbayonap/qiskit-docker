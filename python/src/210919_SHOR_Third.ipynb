{
 "cells": [
  {
   "cell_type": "code",
   "execution_count": 1,
   "id": "c4bef78e",
   "metadata": {},
   "outputs": [],
   "source": [
    "import numpy as np\n",
    "from qiskit import ClassicalRegister, QuantumRegister,QuantumCircuit,execute,Aer\n",
    "from qiskit.tools.visualization import circuit_drawer,plot_histogram\n",
    "\n",
    "# SHOR Algorithm\n",
    "\n"
   ]
  },
  {
   "cell_type": "code",
   "execution_count": 2,
   "id": "1d7ae8ec",
   "metadata": {},
   "outputs": [],
   "source": [
    "# Inverse QFT\n",
    "\n",
    "def generaliqft(circuit,qreg,m):\n",
    "    for j in range(m-1,-1,-1):\n",
    "        for k in range(m-1,j,-1):\n",
    "            circuit.cp(-np.pi/(2**(k-j)),qreg[k],qreg[j] )\n",
    "        circuit.h(qreg[j])\n",
    "        circuit.barrier()\n",
    "        "
   ]
  },
  {
   "cell_type": "code",
   "execution_count": 3,
   "id": "8d539c03",
   "metadata": {},
   "outputs": [],
   "source": [
    "# Set the circuit size 回路のサイズの指定\n",
    "\n",
    "qftsize = 4 # variable X qubit number\n",
    "nbits = 4 # variable Y qubit number\n",
    "csize = qftsize # classical register qubit number (only where QFT acts)\n",
    "xr = QuantumRegister(qftsize,'x')\n",
    "yr = QuantumRegister(nbits,'y')\n",
    "cr = ClassicalRegister(csize,'c')\n",
    "circuit= QuantumCircuit(xr,yr,cr)\n"
   ]
  },
  {
   "cell_type": "code",
   "execution_count": 4,
   "id": "de5443e8",
   "metadata": {},
   "outputs": [],
   "source": [
    "# Quantum gates 量子ゲートの記述\n",
    "for i in range(qftsize):\n",
    "    circuit.h(xr[i])\n",
    "    \n",
    "# Controlled multiplication a=7\n",
    "circuit.x(yr[0])\n",
    "circuit.cx(xr[0],yr[1])\n",
    "circuit.cx(xr[0],yr[2])\n",
    "circuit.barrier()\n",
    "# Controlled multiplication times 4 mod 15\n",
    "circuit.cswap(xr[1],yr[0],yr[2])\n",
    "circuit.cswap(xr[1],yr[1],yr[3])\n",
    "circuit.barrier()\n",
    "# QFT inv.\n",
    "\n",
    "generaliqft(circuit,xr,qftsize)\n",
    "\n",
    "# Measure the circuit 測定命令の記述\n",
    "for i in range(qftsize):\n",
    "    circuit.measure(xr[i],cr[i])\n",
    "    \n",
    "circuit.barrier()\n",
    "\n",
    "# Choose the simulator \n",
    "\n",
    "simulator = Aer.get_backend('qasm_simulator')\n",
    "\n",
    "#　Execute the circuit\n",
    "\n",
    "job = execute(circuit, simulator, shots = 1000)\n",
    "\n",
    "\n"
   ]
  },
  {
   "cell_type": "code",
   "execution_count": 5,
   "id": "ccd69885",
   "metadata": {},
   "outputs": [],
   "source": [
    "# Extract results\n",
    "\n",
    "result = job.result()\n",
    "counts = result.get_counts(circuit)\n",
    "\n",
    "#測定結果のヒストグラム出力, Plot the count results on a histogram\n",
    "plotgraph = plot_histogram(counts)\n",
    "plotgraph.savefig(\"measurement_SHOR3.png\",format=\"png\")\n",
    "\n",
    "#回路図のプロット, Plot the circuit scheme \n",
    "diagram = circuit.draw(output='mpl')\n",
    "diagram.savefig(\"circuit_SHOR3.png\",format=\"png\")"
   ]
  },
  {
   "cell_type": "code",
   "execution_count": 6,
   "id": "7dda81fe",
   "metadata": {},
   "outputs": [
    {
     "name": "stdout",
     "output_type": "stream",
     "text": [
      "Total count[x3,x2,x1,x0] {'0011': 229, '0001': 243, '0010': 262, '0000': 266}\n"
     ]
    }
   ],
   "source": [
    "print(\"Total count[x3,x2,x1,x0]\", counts)"
   ]
  },
  {
   "cell_type": "code",
   "execution_count": 8,
   "id": "a94c8e55",
   "metadata": {},
   "outputs": [
    {
     "ename": "NameError",
     "evalue": "name 'qiskit' is not defined",
     "output_type": "error",
     "traceback": [
      "\u001b[0;31m---------------------------------------------------------------------------\u001b[0m",
      "\u001b[0;31mNameError\u001b[0m                                 Traceback (most recent call last)",
      "\u001b[0;32m/tmp/ipykernel_164/1944955489.py\u001b[0m in \u001b[0;36m<module>\u001b[0;34m\u001b[0m\n\u001b[0;32m----> 1\u001b[0;31m \u001b[0mqiskit\u001b[0m\u001b[0;34m\u001b[0m\u001b[0;34m\u001b[0m\u001b[0m\n\u001b[0m",
      "\u001b[0;31mNameError\u001b[0m: name 'qiskit' is not defined"
     ]
    }
   ],
   "source": []
  }
 ],
 "metadata": {
  "kernelspec": {
   "display_name": "Python 3 (ipykernel)",
   "language": "python",
   "name": "python3"
  },
  "language_info": {
   "codemirror_mode": {
    "name": "ipython",
    "version": 3
   },
   "file_extension": ".py",
   "mimetype": "text/x-python",
   "name": "python",
   "nbconvert_exporter": "python",
   "pygments_lexer": "ipython3",
   "version": "3.8.12"
  }
 },
 "nbformat": 4,
 "nbformat_minor": 5
}
