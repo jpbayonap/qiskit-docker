{
 "cells": [
  {
   "cell_type": "code",
   "execution_count": 2,
   "id": "95c5cfee",
   "metadata": {},
   "outputs": [
    {
     "name": "stdout",
     "output_type": "stream",
     "text": [
      "Imports Successful\n"
     ]
    }
   ],
   "source": [
    "import matplotlib.pyplot as plt\n",
    "import numpy as np\n",
    "from qiskit import QuantumCircuit, Aer, execute\n",
    "from qiskit.visualization import plot_histogram\n",
    "from math import gcd\n",
    "from numpy.random import randint\n",
    "from tabulate import tabulate\n",
    "from fractions import Fraction\n",
    "print(\"Imports Successful\")"
   ]
  },
  {
   "cell_type": "code",
   "execution_count": 3,
   "id": "e0d16686",
   "metadata": {},
   "outputs": [
    {
     "data": {
      "image/png": "[encoded data removed]",
      "text/plain": [
       "<Figure size 432x288 with 1 Axes>"
      ]
     },
     "metadata": {
      "needs_background": "light"
     },
     "output_type": "display_data"
    }
   ],
   "source": [
    "N = 35\n",
    "a = 3\n",
    "\n",
    "# プロットするデータを計算する, Prepare the plotting data\n",
    "xvals = np.arange(35)\n",
    "yvals = [np.mod(a**x, N) for x in xvals]\n",
    "\n",
    "# matplotlibを使って描画, create the plots\n",
    "fig, ax = plt.subplots()\n",
    "ax.plot(xvals, yvals, linewidth=1, linestyle='dotted', marker='x')\n",
    "ax.set(xlabel='$x$', ylabel='$%i^x$ mod $%i$' % (a, N),\n",
    "       title=\"Example of Periodic Function in Shor's Algorithm\")\n",
    "try: # グラフ上にrをプロット, plot the period on the graph\n",
    "    r = yvals[1:].index(1) +1 \n",
    "    plt.annotate(text='', xy=(0,1), xytext=(r,1), arrowprops=dict(arrowstyle='<->'))\n",
    "    plt.annotate(text='$r=%i$' % r, xy=(r/3,1.5))\n",
    "except:\n",
    "    print('Could not find period, check a < N and have no common factors.')"
   ]
  },
  {
   "cell_type": "markdown",
   "id": "a5c7df1f",
   "metadata": {},
   "source": [
    "Prepare an unitary operator to predict the phase of an state\n",
    "\n",
    "$ U| y \\rangle =|{\\rm ay \\;mod\\; N\\rangle} $\n",
    "\n",
    "Uの固有状態がどのように見えるかを考えてみましょう。Lets consider the eigenstates of U\n",
    "\n",
    "\n",
    "|1⟩の状態から開始した場合、Uが連続して適用され、つまり、レジスターの状態に \n",
    "a(modN) を乗算します。"
   ]
  },
  {
   "cell_type": "markdown",
   "id": "80df41f4",
   "metadata": {},
   "source": [
    "このサイクルの重ね合わせ（ |u0⟩）は U の固有状態になります：\n",
    "\n",
    "Let's thing the following superposed state:\n",
    "\n",
    "$ |u_0\\rangle = \\frac{1}{\\sqrt{r}} \\sum_{k=0}^{r-1} |a^r\\;mod\\;N\\rangle$\n",
    "\n",
    "TRIVIAL eigenvalue :("
   ]
  },
  {
   "cell_type": "markdown",
   "id": "112db40d",
   "metadata": {},
   "source": [
    "Instead let's consider\n",
    "    $ |u_1\\rangle = \\frac{1}{\\sqrt{r}} \\sum_{k=0}^{r-1} e^{-2\\pi i k/r}|a^r\\;mod\\;N\\rangle$\n",
    "    \n",
    "Which satisfies\n",
    "\n",
    " $ U|u_1\\rangle =  e^{2\\pi i /r}|u_1\\rangle$\n",
    " \n",
    " In general if we multiply by an integer s (0 < s < r−1 )the phase factor, we obtain the eigenstate\n",
    " \n",
    "  $ U|u_s\\rangle =  e^{2\\pi i s/r}|u_s\\rangle$\n",
    "  \n",
    "  Interesting property\n",
    "  $ |1\\rangle= \\frac{1}{\\sqrt{r}} \\sum_{k=0}^{r-1} |u_k\\rangle$\n",
    "  \n",
    "  計算基底の状態 |1⟩\n",
    "  がこれらの固有状態の重ね合わせである\n",
    " "
   ]
  },
  {
   "cell_type": "markdown",
   "id": "8d07a9a6",
   "metadata": {},
   "source": [
    "Define the phase of the state $|u_s\\rangle$ as $\\phi= \\frac{s}{r}$\n",
    "\n",
    "連分数アルゴリズム(continued fraction algorithm) を使用して \n",
    "r\n",
    "  を見つけます。1"
   ]
  },
  {
   "cell_type": "markdown",
   "id": "e77ac7e9",
   "metadata": {},
   "source": [
    "EXAMPLE a=7, N=15"
   ]
  },
  {
   "cell_type": "code",
   "execution_count": 4,
   "id": "8e54c0fd",
   "metadata": {},
   "outputs": [],
   "source": [
    "def c_amod15(a, power):\n",
    "    \"\"\"mod 15による制御ゲートをかける\"\"\"\n",
    "    \"\"\" Apply a controlling gate by using mod15 residue\"\"\"\n",
    "    if a not in [2,7,8,11,13]:\n",
    "        raise ValueError(\"'a' must be 2,7,8,11 or 13\")\n",
    "    U = QuantumCircuit(4)        \n",
    "    for iteration in range(power):\n",
    "        if a in [2,13]:\n",
    "            U.swap(0,1)\n",
    "            U.swap(1,2)\n",
    "            U.swap(2,3)\n",
    "        if a in [7,8]:\n",
    "            U.swap(2,3)\n",
    "            U.swap(1,2)\n",
    "            U.swap(0,1)\n",
    "        if a == 11:\n",
    "            U.swap(1,3)\n",
    "            U.swap(0,2)\n",
    "        if a in [7,11,13]:\n",
    "            for q in range(4):\n",
    "                U.x(q)\n",
    "    U = U.to_gate()\n",
    "    U.name = \"%i^%i mod 15\" % (a, power)\n",
    "    c_U = U.control()\n",
    "    return c_U\n"
   ]
  },
  {
   "cell_type": "code",
   "execution_count": 6,
   "id": "06510146",
   "metadata": {},
   "outputs": [],
   "source": [
    "# Specify variables\n",
    "# let's use qbit 8 for measuring.\n",
    "n_count = 8 # number of counting qubits\n",
    "a = 7\n"
   ]
  },
  {
   "cell_type": "code",
   "execution_count": 7,
   "id": "b657b806",
   "metadata": {},
   "outputs": [],
   "source": [
    "# To get the phase lets use the inverse Fourier transform\n",
    "def qft_dagger(n):\n",
    "    \"\"\"n量子ビットの逆QFTを回路の最初のn量子ビットにかける\"\"\"\n",
    "    \n",
    "    qc = QuantumCircuit(n)\n",
    "    # Swapsを忘れない!\n",
    "    for qubit in range(n//2):\n",
    "        qc.swap(qubit, n-qubit-1)\n",
    "    for j in range(n):\n",
    "        for m in range(j):\n",
    "            qc.cu1(-np.pi/float(2**(j-m)), m, j)\n",
    "        qc.h(j)\n",
    "    qc.name = \"QFT†\"\n",
    "    return qc"
   ]
  },
  {
   "cell_type": "code",
   "execution_count": 8,
   "id": "7546c9b8",
   "metadata": {},
   "outputs": [
    {
     "name": "stderr",
     "output_type": "stream",
     "text": [
      "/tmp/ipykernel_20/3077976195.py:11: DeprecationWarning: The QuantumCircuit.cu1 method is deprecated as of 0.16.0. It will be removed no earlier than 3 months after the release date. You should use the QuantumCircuit.cp method instead, which acts identically.\n",
      "  qc.cu1(-np.pi/float(2**(j-m)), m, j)\n"
     ]
    },
    {
     "data": {
      "text/html": [
       "<pre style=\"word-wrap: normal;white-space: pre;background: #fff0;line-height: 1.1;font-family: &quot;Courier New&quot;,Courier,monospace\">      ┌───┐                                                            »\n",
       " q_0: ┤ H ├───────■────────────────────────────────────────────────────»\n",
       "      ├───┤       │                                                    »\n",
       " q_1: ┤ H ├───────┼──────────────■─────────────────────────────────────»\n",
       "      ├───┤       │              │                                     »\n",
       " q_2: ┤ H ├───────┼──────────────┼──────────────■──────────────────────»\n",
       "      ├───┤       │              │              │                      »\n",
       " q_3: ┤ H ├───────┼──────────────┼──────────────┼──────────────■───────»\n",
       "      ├───┤       │              │              │              │       »\n",
       " q_4: ┤ H ├───────┼──────────────┼──────────────┼──────────────┼───────»\n",
       "      ├───┤       │              │              │              │       »\n",
       " q_5: ┤ H ├───────┼──────────────┼──────────────┼──────────────┼───────»\n",
       "      ├───┤       │              │              │              │       »\n",
       " q_6: ┤ H ├───────┼──────────────┼──────────────┼──────────────┼───────»\n",
       "      ├───┤       │              │              │              │       »\n",
       " q_7: ┤ H ├───────┼──────────────┼──────────────┼──────────────┼───────»\n",
       "      └───┘┌──────┴──────┐┌──────┴──────┐┌──────┴──────┐┌──────┴──────┐»\n",
       " q_8: ─────┤0            ├┤0            ├┤0            ├┤0            ├»\n",
       "           │             ││             ││             ││             │»\n",
       " q_9: ─────┤1            ├┤1            ├┤1            ├┤1            ├»\n",
       "           │  7^1 mod 15 ││  7^2 mod 15 ││  7^4 mod 15 ││  7^8 mod 15 │»\n",
       "q_10: ─────┤2            ├┤2            ├┤2            ├┤2            ├»\n",
       "      ┌───┐│             ││             ││             ││             │»\n",
       "q_11: ┤ X ├┤3            ├┤3            ├┤3            ├┤3            ├»\n",
       "      └───┘└─────────────┘└─────────────┘└─────────────┘└─────────────┘»\n",
       " c: 8/═════════════════════════════════════════════════════════════════»\n",
       "                                                                       »\n",
       "«                                                                       »\n",
       "« q_0: ─────────────────────────────────────────────────────────────────»\n",
       "«                                                                       »\n",
       "« q_1: ─────────────────────────────────────────────────────────────────»\n",
       "«                                                                       »\n",
       "« q_2: ─────────────────────────────────────────────────────────────────»\n",
       "«                                                                       »\n",
       "« q_3: ─────────────────────────────────────────────────────────────────»\n",
       "«                                                                       »\n",
       "« q_4: ───────■─────────────────────────────────────────────────────────»\n",
       "«             │                                                         »\n",
       "« q_5: ───────┼───────────────■─────────────────────────────────────────»\n",
       "«             │               │                                         »\n",
       "« q_6: ───────┼───────────────┼───────────────■─────────────────────────»\n",
       "«             │               │               │                         »\n",
       "« q_7: ───────┼───────────────┼───────────────┼────────────────■────────»\n",
       "«      ┌──────┴───────┐┌──────┴───────┐┌──────┴───────┐┌───────┴───────┐»\n",
       "« q_8: ┤0             ├┤0             ├┤0             ├┤0              ├»\n",
       "«      │              ││              ││              ││               │»\n",
       "« q_9: ┤1             ├┤1             ├┤1             ├┤1              ├»\n",
       "«      │  7^16 mod 15 ││  7^32 mod 15 ││  7^64 mod 15 ││  7^128 mod 15 │»\n",
       "«q_10: ┤2             ├┤2             ├┤2             ├┤2              ├»\n",
       "«      │              ││              ││              ││               │»\n",
       "«q_11: ┤3             ├┤3             ├┤3             ├┤3              ├»\n",
       "«      └──────────────┘└──────────────┘└──────────────┘└───────────────┘»\n",
       "« c: 8/═════════════════════════════════════════════════════════════════»\n",
       "«                                                                       »\n",
       "«      ┌───────┐┌─┐                     \n",
       "« q_0: ┤0      ├┤M├─────────────────────\n",
       "«      │       │└╥┘┌─┐                  \n",
       "« q_1: ┤1      ├─╫─┤M├──────────────────\n",
       "«      │       │ ║ └╥┘┌─┐               \n",
       "« q_2: ┤2      ├─╫──╫─┤M├───────────────\n",
       "«      │       │ ║  ║ └╥┘┌─┐            \n",
       "« q_3: ┤3      ├─╫──╫──╫─┤M├────────────\n",
       "«      │  QFT† │ ║  ║  ║ └╥┘┌─┐         \n",
       "« q_4: ┤4      ├─╫──╫──╫──╫─┤M├─────────\n",
       "«      │       │ ║  ║  ║  ║ └╥┘┌─┐      \n",
       "« q_5: ┤5      ├─╫──╫──╫──╫──╫─┤M├──────\n",
       "«      │       │ ║  ║  ║  ║  ║ └╥┘┌─┐   \n",
       "« q_6: ┤6      ├─╫──╫──╫──╫──╫──╫─┤M├───\n",
       "«      │       │ ║  ║  ║  ║  ║  ║ └╥┘┌─┐\n",
       "« q_7: ┤7      ├─╫──╫──╫──╫──╫──╫──╫─┤M├\n",
       "«      └───────┘ ║  ║  ║  ║  ║  ║  ║ └╥┘\n",
       "« q_8: ──────────╫──╫──╫──╫──╫──╫──╫──╫─\n",
       "«                ║  ║  ║  ║  ║  ║  ║  ║ \n",
       "« q_9: ──────────╫──╫──╫──╫──╫──╫──╫──╫─\n",
       "«                ║  ║  ║  ║  ║  ║  ║  ║ \n",
       "«q_10: ──────────╫──╫──╫──╫──╫──╫──╫──╫─\n",
       "«                ║  ║  ║  ║  ║  ║  ║  ║ \n",
       "«q_11: ──────────╫──╫──╫──╫──╫──╫──╫──╫─\n",
       "«                ║  ║  ║  ║  ║  ║  ║  ║ \n",
       "« c: 8/══════════╩══╩══╩══╩══╩══╩══╩══╩═\n",
       "«                0  1  2  3  4  5  6  7 </pre>"
      ],
      "text/plain": [
       "      ┌───┐                                                            »\n",
       " q_0: ┤ H ├───────■────────────────────────────────────────────────────»\n",
       "      ├───┤       │                                                    »\n",
       " q_1: ┤ H ├───────┼──────────────■─────────────────────────────────────»\n",
       "      ├───┤       │              │                                     »\n",
       " q_2: ┤ H ├───────┼──────────────┼──────────────■──────────────────────»\n",
       "      ├───┤       │              │              │                      »\n",
       " q_3: ┤ H ├───────┼──────────────┼──────────────┼──────────────■───────»\n",
       "      ├───┤       │              │              │              │       »\n",
       " q_4: ┤ H ├───────┼──────────────┼──────────────┼──────────────┼───────»\n",
       "      ├───┤       │              │              │              │       »\n",
       " q_5: ┤ H ├───────┼──────────────┼──────────────┼──────────────┼───────»\n",
       "      ├───┤       │              │              │              │       »\n",
       " q_6: ┤ H ├───────┼──────────────┼──────────────┼──────────────┼───────»\n",
       "      ├───┤       │              │              │              │       »\n",
       " q_7: ┤ H ├───────┼──────────────┼──────────────┼──────────────┼───────»\n",
       "      └───┘┌──────┴──────┐┌──────┴──────┐┌──────┴──────┐┌──────┴──────┐»\n",
       " q_8: ─────┤0            ├┤0            ├┤0            ├┤0            ├»\n",
       "           │             ││             ││             ││             │»\n",
       " q_9: ─────┤1            ├┤1            ├┤1            ├┤1            ├»\n",
       "           │  7^1 mod 15 ││  7^2 mod 15 ││  7^4 mod 15 ││  7^8 mod 15 │»\n",
       "q_10: ─────┤2            ├┤2            ├┤2            ├┤2            ├»\n",
       "      ┌───┐│             ││             ││             ││             │»\n",
       "q_11: ┤ X ├┤3            ├┤3            ├┤3            ├┤3            ├»\n",
       "      └───┘└─────────────┘└─────────────┘└─────────────┘└─────────────┘»\n",
       " c: 8/═════════════════════════════════════════════════════════════════»\n",
       "                                                                       »\n",
       "«                                                                       »\n",
       "« q_0: ─────────────────────────────────────────────────────────────────»\n",
       "«                                                                       »\n",
       "« q_1: ─────────────────────────────────────────────────────────────────»\n",
       "«                                                                       »\n",
       "« q_2: ─────────────────────────────────────────────────────────────────»\n",
       "«                                                                       »\n",
       "« q_3: ─────────────────────────────────────────────────────────────────»\n",
       "«                                                                       »\n",
       "« q_4: ───────■─────────────────────────────────────────────────────────»\n",
       "«             │                                                         »\n",
       "« q_5: ───────┼───────────────■─────────────────────────────────────────»\n",
       "«             │               │                                         »\n",
       "« q_6: ───────┼───────────────┼───────────────■─────────────────────────»\n",
       "«             │               │               │                         »\n",
       "« q_7: ───────┼───────────────┼───────────────┼────────────────■────────»\n",
       "«      ┌──────┴───────┐┌──────┴───────┐┌──────┴───────┐┌───────┴───────┐»\n",
       "« q_8: ┤0             ├┤0             ├┤0             ├┤0              ├»\n",
       "«      │              ││              ││              ││               │»\n",
       "« q_9: ┤1             ├┤1             ├┤1             ├┤1              ├»\n",
       "«      │  7^16 mod 15 ││  7^32 mod 15 ││  7^64 mod 15 ││  7^128 mod 15 │»\n",
       "«q_10: ┤2             ├┤2             ├┤2             ├┤2              ├»\n",
       "«      │              ││              ││              ││               │»\n",
       "«q_11: ┤3             ├┤3             ├┤3             ├┤3              ├»\n",
       "«      └──────────────┘└──────────────┘└──────────────┘└───────────────┘»\n",
       "« c: 8/═════════════════════════════════════════════════════════════════»\n",
       "«                                                                       »\n",
       "«      ┌───────┐┌─┐                     \n",
       "« q_0: ┤0      ├┤M├─────────────────────\n",
       "«      │       │└╥┘┌─┐                  \n",
       "« q_1: ┤1      ├─╫─┤M├──────────────────\n",
       "«      │       │ ║ └╥┘┌─┐               \n",
       "« q_2: ┤2      ├─╫──╫─┤M├───────────────\n",
       "«      │       │ ║  ║ └╥┘┌─┐            \n",
       "« q_3: ┤3      ├─╫──╫──╫─┤M├────────────\n",
       "«      │  QFT† │ ║  ║  ║ └╥┘┌─┐         \n",
       "« q_4: ┤4      ├─╫──╫──╫──╫─┤M├─────────\n",
       "«      │       │ ║  ║  ║  ║ └╥┘┌─┐      \n",
       "« q_5: ┤5      ├─╫──╫──╫──╫──╫─┤M├──────\n",
       "«      │       │ ║  ║  ║  ║  ║ └╥┘┌─┐   \n",
       "« q_6: ┤6      ├─╫──╫──╫──╫──╫──╫─┤M├───\n",
       "«      │       │ ║  ║  ║  ║  ║  ║ └╥┘┌─┐\n",
       "« q_7: ┤7      ├─╫──╫──╫──╫──╫──╫──╫─┤M├\n",
       "«      └───────┘ ║  ║  ║  ║  ║  ║  ║ └╥┘\n",
       "« q_8: ──────────╫──╫──╫──╫──╫──╫──╫──╫─\n",
       "«                ║  ║  ║  ║  ║  ║  ║  ║ \n",
       "« q_9: ──────────╫──╫──╫──╫──╫──╫──╫──╫─\n",
       "«                ║  ║  ║  ║  ║  ║  ║  ║ \n",
       "«q_10: ──────────╫──╫──╫──╫──╫──╫──╫──╫─\n",
       "«                ║  ║  ║  ║  ║  ║  ║  ║ \n",
       "«q_11: ──────────╫──╫──╫──╫──╫──╫──╫──╫─\n",
       "«                ║  ║  ║  ║  ║  ║  ║  ║ \n",
       "« c: 8/══════════╩══╩══╩══╩══╩══╩══╩══╩═\n",
       "«                0  1  2  3  4  5  6  7 "
      ]
     },
     "execution_count": 8,
     "metadata": {},
     "output_type": "execute_result"
    }
   ],
   "source": [
    "# SHORS algorithm\n",
    "# n_count個の測定用量子ビットとUを操作するための4量子ビットで, prepare qubits for measuring\n",
    "# 量子回路を作る, create the circuit \n",
    "qc = QuantumCircuit(n_count + 4, n_count)\n",
    "\n",
    "# 測定用量子ビットを\n",
    "# |+>状態に初期化\n",
    "# Apply Hadmart gate to the measuring qubits\n",
    "for q in range(n_count):\n",
    "    qc.h(q)\n",
    "    \n",
    "# アンシラレジスターを|1>の状態にする\n",
    "# Let the state|1> be the ancilla state\n",
    "qc.x(3+n_count)\n",
    "\n",
    "# 制御Uを操作, apply the U gate\n",
    "for q in range(n_count):\n",
    "    qc.append(c_amod15(a, 2**q), \n",
    "             [q] + [i+n_count for i in range(4)])\n",
    "\n",
    "# 逆QFTを操作, Inverse Fourier transform\n",
    "qc.append(qft_dagger(n_count), range(n_count))\n",
    "\n",
    "# 回路を測定\n",
    "qc.measure(range(n_count), range(n_count))\n",
    "qc.draw('text')"
   ]
  },
  {
   "cell_type": "markdown",
   "id": "54ec6209",
   "metadata": {},
   "source": [
    "Show results"
   ]
  },
  {
   "cell_type": "code",
   "execution_count": 9,
   "id": "2a8d8578",
   "metadata": {},
   "outputs": [
    {
     "data": {
      "image/png": "[encoded data removed]",
      "text/plain": [
       "<Figure size 504x360 with 1 Axes>"
      ]
     },
     "execution_count": 9,
     "metadata": {},
     "output_type": "execute_result"
    }
   ],
   "source": [
    "backend = Aer.get_backend('qasm_simulator')\n",
    "results = execute(qc, backend, shots=2048).result()\n",
    "counts = results.get_counts()\n",
    "plot_histogram(counts)"
   ]
  },
  {
   "cell_type": "markdown",
   "id": "59dc972e",
   "metadata": {},
   "source": [
    "Get the phases from the results"
   ]
  },
  {
   "cell_type": "code",
   "execution_count": 10,
   "id": "aefde492",
   "metadata": {},
   "outputs": [
    {
     "name": "stdout",
     "output_type": "stream",
     "text": [
      "Register Output                    Phase\n",
      "------------------------  --------------\n",
      "01000000(bin) = 64(dec)    64/256 = 0.25\n",
      "11000000(bin) = 192(dec)  192/256 = 0.75\n",
      "10000000(bin) = 128(dec)  128/256 = 0.50\n",
      "00000000(bin) = 0(dec)      0/256 = 0.00\n"
     ]
    }
   ],
   "source": [
    "rows, measured_phases = [], []\n",
    "for output in counts:\n",
    "    decimal = int(output, 2)  # 2進数を10進数に変換します\n",
    "    phase = decimal/(2**n_count) # 固有値を探します\n",
    "    measured_phases.append(phase)\n",
    "    # これらの値をテーブルの行に追加します：\n",
    "    rows.append([\"%s(bin) = %i(dec)\" % (output, decimal), \n",
    "                 \"%i/%i = %.2f\" % (decimal, 2**n_count, phase)])\n",
    "# tabulateを使って、ASCIIテーブルとして行を印刷します：\n",
    "print(tabulate(rows, \n",
    "               headers=[\"Register Output\", \"Phase\"], \n",
    "               colalign=(\"left\",\"right\")))"
   ]
  },
  {
   "cell_type": "code",
   "execution_count": null,
   "id": "af3ee247",
   "metadata": {},
   "outputs": [],
   "source": []
  }
 ],
 "metadata": {
  "kernelspec": {
   "display_name": "Python 3 (ipykernel)",
   "language": "python",
   "name": "python3"
  },
  "language_info": {
   "codemirror_mode": {
    "name": "ipython",
    "version": 3
   },
   "file_extension": ".py",
   "mimetype": "text/x-python",
   "name": "python",
   "nbconvert_exporter": "python",
   "pygments_lexer": "ipython3",
   "version": "3.8.12"
  }
 },
 "nbformat": 4,
 "nbformat_minor": 5
}
