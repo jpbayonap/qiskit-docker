{
 "cells": [
  {
   "cell_type": "code",
   "execution_count": 12,
   "id": "8d597420",
   "metadata": {},
   "outputs": [
    {
     "name": "stdout",
     "output_type": "stream",
     "text": [
      "Total count [q1,q0]: {'00': 510, '11': 490}\n"
     ]
    }
   ],
   "source": [
    "import numpy as np\n",
    "from qiskit import ClassicalRegister, QuantumRegister,QuantumCircuit,execute,Aer\n",
    "from qiskit.tools.visualization import circuit_drawer,plot_histogram\n",
    "\n",
    "# Set the size circuit\n",
    "qr = QuantumRegister(2,'q')\n",
    "cr = ClassicalRegister(2,'c')\n",
    "circuit = QuantumCircuit(qr,cr)\n",
    "#Apply the quantum gates\n",
    "\n",
    "circuit.h(qr[0])\n",
    "circuit.cx(qr[0],qr[1])\n",
    "\n",
    "circuit.measure(qr[0],cr[0])\n",
    "circuit.measure(qr[1],cr[1])\n",
    "#シミュレーターの指定, select the simulator\n",
    "simulator = Aer.get_backend('qasm_simulator')\n",
    "#量子回路のシミュレーターを使った実行, Repeat circuit= #(shots) times\n",
    "job = execute(circuit, simulator, shots=1000)\n",
    "\n",
    "#測定結果の取り出し\n",
    "result = job.result()\n",
    "counts = result.get_counts(circuit)\n",
    "\n",
    "#測定結果のカウント表示, show the counts for each result\n",
    "print(\"Total count [q1,q0]:\",counts)\n",
    "\n",
    "#測定結果のヒストグラム出力, Plot the count results on a histogram\n",
    "plotgraph = plot_histogram(counts)\n",
    "plotgraph.savefig(\"measurement_Bell.png\",format=\"png\")\n",
    "\n",
    "#Plot the circuit\n",
    "diagram = circuit.draw(output='mpl')\n",
    "diagram.savefig(\"circuit_Bell.png\",format=\"png\")"
   ]
  }
 ],
 "metadata": {
  "kernelspec": {
   "display_name": "Python 3 (ipykernel)",
   "language": "python",
   "name": "python3"
  },
  "language_info": {
   "codemirror_mode": {
    "name": "ipython",
    "version": 3
   },
   "file_extension": ".py",
   "mimetype": "text/x-python",
   "name": "python",
   "nbconvert_exporter": "python",
   "pygments_lexer": "ipython3",
   "version": "3.8.12"
  }
 },
 "nbformat": 4,
 "nbformat_minor": 5
}
