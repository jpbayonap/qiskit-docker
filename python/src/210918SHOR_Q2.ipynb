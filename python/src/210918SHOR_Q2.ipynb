{
 "cells": [
  {
   "cell_type": "code",
   "execution_count": 8,
   "id": "5226afb3",
   "metadata": {},
   "outputs": [],
   "source": [
    "import numpy as np\n",
    "from qiskit import ClassicalRegister, QuantumRegister,QuantumCircuit,execute,Aer\n",
    "from qiskit.tools.visualization import circuit_drawer,plot_histogram\n",
    "\n",
    "\n",
    "# a =2 \n",
    "\n",
    "# Set the size circuit\n",
    "qftsize = 4 #x qubits number\n",
    "nbits = 4   #y qubits number\n",
    "#Real SHOR => csize= qftsize \n",
    "csize= qftsize + nbits # classical register number\n",
    "\n",
    "xr = QuantumRegister(qftsize, 'x')\n",
    "yr = QuantumRegister(nbits,'y')\n",
    "cr = ClassicalRegister(csize, 'c')\n",
    "\n",
    "circuit = QuantumCircuit(xr,yr, cr)\n",
    "# Apply Hadamart gate\n",
    "\n",
    "for i in range(qftsize):\n",
    "    circuit.h(xr[i])\n",
    "circuit.barrier() # separate\n",
    "\n",
    "# 2 times  controlled circuit\n",
    "circuit.x(yr[0])\n",
    "circuit.cx(xr[0],yr[0])\n",
    "circuit.cx(xr[0],yr[1])\n",
    "\n",
    "circuit.barrier() # separate\n",
    "\n",
    "\n",
    "# 4 times mode 15 circuit 2^2 mod 15 = 4\n",
    "# 4Y mod 15 = 4 y0+ 8y1 +y2 + 2y3.  ( y0 y1 y2 y3) (y1 y0 y3 y2)\n",
    "# Using Fredkin Gate \n",
    "\n",
    "circuit.ccx(xr[1],yr[0],yr[2])\n",
    "circuit.ccx(xr[1],yr[1],yr[3])\n",
    "# or\n",
    "'''\n",
    "circuit.ccx(xr[0],xr[1],yr[3])\n",
    "circuit.cx(yr[3],yr[2])\n",
    "circuit.cx(xr[1],yr[2])\n",
    "\n",
    "\n",
    "'''\n",
    "circuit.cx(yr[2],yr[0])\n",
    "circuit.cx(yr[3],yr[1])\n",
    "\n",
    "circuit.barrier() #separate\n",
    "\n",
    "# times a^4 mod N\n",
    "# 2^4 mod 15 = 1 (no action required)\n",
    "# Same for a^8\n",
    "\n",
    "# Measurement\n",
    "\n",
    "for i in range(qftsize):\n",
    "    circuit.measure(xr[i], cr[i])\n",
    "    \n",
    "# a^x mod N calculation measurement\n",
    "\n",
    "for i in range(nbits):\n",
    "    circuit.measure(yr[i],cr[i+qftsize])\n",
    "    \n",
    "    \n",
    "#シミュレーターの指定, select the simulator\n",
    "simulator = Aer.get_backend('qasm_simulator')\n",
    "#量子回路のシミュレーターを使った実行, Repeat circuit= #(shots) times\n",
    "job = execute(circuit, simulator, shots=1000)\n",
    "\n",
    "#測定結果の取り出し\n",
    "result = job.result()\n",
    "counts = result.get_counts(circuit)\n",
    "\n",
    "#測定結果のヒストグラム出力, Plot the count results on a histogram\n",
    "plotgraph = plot_histogram(counts)\n",
    "plotgraph.savefig(\"measurement_SHORQ2.png\",format=\"png\")\n",
    "\n",
    "#回路図のプロット, Plot the circuit scheme \n",
    "diagram = circuit.draw(output='mpl')\n",
    "diagram.savefig(\"circuit_SHORQ2.png\",format=\"png\")\n",
    "\n",
    "\n",
    "\n",
    "\n",
    "\n",
    "\n"
   ]
  },
  {
   "cell_type": "code",
   "execution_count": 2,
   "id": "5e56666d",
   "metadata": {},
   "outputs": [
    {
     "name": "stdout",
     "output_type": "stream",
     "text": [
      "Total count [y3,y2,y1,y0,x3,x2,x1,x0]: {'00100001': 56, '10000011': 70, '00011000': 59, '01000110': 50, '10000111': 59, '00101101': 68, '10001011': 61, '00101001': 82, '00100101': 60, '00011100': 54, '00010000': 67, '00010100': 56, '10001111': 63, '01001010': 68, '01001110': 68, '01000010': 59}\n"
     ]
    }
   ],
   "source": [
    "print(\"Total count [y3,y2,y1,y0,x3,x2,x1,x0]:\", counts )"
   ]
  },
  {
   "cell_type": "code",
   "execution_count": 10,
   "id": "52520aa5",
   "metadata": {},
   "outputs": [
    {
     "name": "stdout",
     "output_type": "stream",
     "text": [
      "(X,Y)=  0000 0001 =( 0 , 1 ): count 57\n",
      "(X,Y)=  0001 0010 =( 1 , 2 ): count 66\n",
      "(X,Y)=  0010 0100 =( 2 , 4 ): count 66\n",
      "(X,Y)=  0011 1000 =( 3 , 8 ): count 73\n",
      "(X,Y)=  0100 0001 =( 4 , 1 ): count 52\n",
      "(X,Y)=  0101 0010 =( 5 , 2 ): count 58\n",
      "(X,Y)=  0110 0100 =( 6 , 4 ): count 52\n",
      "(X,Y)=  0111 1000 =( 7 , 8 ): count 63\n",
      "(X,Y)=  1000 0001 =( 8 , 1 ): count 81\n",
      "(X,Y)=  1001 0010 =( 9 , 2 ): count 69\n",
      "(X,Y)=  1010 0100 =( 10 , 4 ): count 60\n",
      "(X,Y)=  1011 1000 =( 11 , 8 ): count 56\n",
      "(X,Y)=  1100 0001 =( 12 , 1 ): count 57\n",
      "(X,Y)=  1101 0010 =( 13 , 2 ): count 59\n",
      "(X,Y)=  1110 0100 =( 14 , 4 ): count 61\n",
      "(X,Y)=  1111 1000 =( 15 , 8 ): count 70\n"
     ]
    }
   ],
   "source": [
    "# Convert to (X,Y)  and verify that Y= 2^X mod 15\n",
    "\n",
    "scounts = sorted(counts.items(), key= lambda x:x[0][4:8]) # sort xbits\n",
    "\n",
    "for i in scounts:\n",
    "    k =i[0]\n",
    "    v= i[1]\n",
    "    ybits = k[0:4]  #get the y bits\n",
    "    xbits = k[4:8]  # get the x bits\n",
    "    print('(X,Y)= ', xbits,ybits, \"=(\", int(xbits,2), ',', int(ybits,2),'): count', v )\n",
    "    \n",
    "# period of 4\n",
    "\n",
    "\n"
   ]
  },
  {
   "cell_type": "code",
   "execution_count": 11,
   "id": "280c2f2e",
   "metadata": {},
   "outputs": [
    {
     "ename": "NameError",
     "evalue": "name 'qiskit' is not defined",
     "output_type": "error",
     "traceback": [
      "\u001b[0;31m---------------------------------------------------------------------------\u001b[0m",
      "\u001b[0;31mNameError\u001b[0m                                 Traceback (most recent call last)",
      "\u001b[0;32m/tmp/ipykernel_120/3694888850.py\u001b[0m in \u001b[0;36m<module>\u001b[0;34m\u001b[0m\n\u001b[0;32m----> 1\u001b[0;31m \u001b[0mqiskit\u001b[0m\u001b[0;34m.\u001b[0m\u001b[0m__version__\u001b[0m\u001b[0;34m\u001b[0m\u001b[0;34m\u001b[0m\u001b[0m\n\u001b[0m",
      "\u001b[0;31mNameError\u001b[0m: name 'qiskit' is not defined"
     ]
    }
   ],
   "source": [
    "qiskit.__version__"
   ]
  }
 ],
 "metadata": {
  "kernelspec": {
   "display_name": "Python 3 (ipykernel)",
   "language": "python",
   "name": "python3"
  },
  "language_info": {
   "codemirror_mode": {
    "name": "ipython",
    "version": 3
   },
   "file_extension": ".py",
   "mimetype": "text/x-python",
   "name": "python",
   "nbconvert_exporter": "python",
   "pygments_lexer": "ipython3",
   "version": "3.8.12"
  }
 },
 "nbformat": 4,
 "nbformat_minor": 5
}
