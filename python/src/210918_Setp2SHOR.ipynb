{
 "cells": [
  {
   "cell_type": "code",
   "execution_count": 6,
   "id": "72d5cd9a",
   "metadata": {},
   "outputs": [],
   "source": [
    "import numpy as np\n",
    "from qiskit import ClassicalRegister, QuantumRegister,QuantumCircuit,execute,Aer\n",
    "from qiskit.tools.visualization import circuit_drawer,plot_histogram\n",
    "\n",
    "# Set the size circuit\n",
    "qftsize = 4 #x qubits number\n",
    "nbits = 4   #y qubits number\n",
    "#Real SHOR => csize= qftsize \n",
    "csize= qftsize + nbits # classical register number\n",
    "\n",
    "xr = QuantumRegister(qftsize, 'x')\n",
    "yr = QuantumRegister(nbits,'y')\n",
    "cr = ClassicalRegister(csize, 'c')\n",
    "\n",
    "circuit = QuantumCircuit(xr,yr, cr)\n",
    "# Apply Hadamart gate\n",
    "\n",
    "for i in range(qftsize):\n",
    "    circuit.h(xr[i])\n",
    "circuit.barrier() # separate\n",
    "\n",
    "# 7 times  controlled circuit\n",
    "\n",
    "circuit.x(yr[0])\n",
    "circuit.cx(xr[0],yr[1])\n",
    "circuit.cx(xr[0],yr[2])\n",
    "circuit.barrier() # separate\n",
    "\n",
    "\n",
    "# 4 times mode 15 circuit 7^2 mod 15 = 4\n",
    "# 4Y mod 15 = 4 y0+ 8y1 +y2 + 2y3.  ( y0 y1 y2 y3) (y1 y0 y3 y2)\n",
    "# Using Fredkin Gate \n",
    "\n",
    "circuit.cswap(xr[1],yr[0],yr[2])\n",
    "circuit.cswap(xr[1],yr[1],yr[3])\n",
    "circuit.barrier() #separate\n",
    "\n",
    "# times a^4 mod N\n",
    "# 7^4 mod 15 = 1 (no action required)\n",
    "# Same for a^8\n",
    "\n",
    "# Measurement\n",
    "\n",
    "for i in range(qftsize):\n",
    "    circuit.measure(xr[i], cr[i])\n",
    "    \n",
    "# a^x mod N calculation measurement\n",
    "\n",
    "for i in range(nbits):\n",
    "    circuit.measure(yr[i],cr[i+qftsize])\n",
    "    \n",
    "    \n",
    "#シミュレーターの指定, select the simulator\n",
    "simulator = Aer.get_backend('qasm_simulator')\n",
    "#量子回路のシミュレーターを使った実行, Repeat circuit= #(shots) times\n",
    "job = execute(circuit, simulator, shots=1000)\n",
    "\n",
    "#測定結果の取り出し\n",
    "result = job.result()\n",
    "counts = result.get_counts(circuit)\n",
    "\n"
   ]
  },
  {
   "cell_type": "code",
   "execution_count": 7,
   "id": "92e8a7b1",
   "metadata": {},
   "outputs": [
    {
     "name": "stdout",
     "output_type": "stream",
     "text": [
      "Total count [y3,y2,y1,y0,x3,x2,x1,x0]: {'01111101': 76, '11011111': 57, '00010100': 58, '00011100': 71, '00010000': 61, '01000110': 75, '00011000': 71, '01111001': 49, '01110001': 60, '01110101': 64, '11010011': 44, '11010111': 47, '11011011': 70, '01001010': 71, '01001110': 64, '01000010': 62}\n"
     ]
    }
   ],
   "source": [
    "# Show results counts\n",
    "\n",
    "print(\"Total count [y3,y2,y1,y0,x3,x2,x1,x0]:\", counts )"
   ]
  },
  {
   "cell_type": "code",
   "execution_count": 8,
   "id": "2eba2fc0",
   "metadata": {},
   "outputs": [
    {
     "name": "stdout",
     "output_type": "stream",
     "text": [
      "(X,Y)=  0000 0001 =( 0 , 1 ): count 61\n",
      "(X,Y)=  0001 0111 =( 1 , 7 ): count 60\n",
      "(X,Y)=  0010 0100 =( 2 , 4 ): count 62\n",
      "(X,Y)=  0011 1101 =( 3 , 13 ): count 44\n",
      "(X,Y)=  0100 0001 =( 4 , 1 ): count 58\n",
      "(X,Y)=  0101 0111 =( 5 , 7 ): count 64\n",
      "(X,Y)=  0110 0100 =( 6 , 4 ): count 75\n",
      "(X,Y)=  0111 1101 =( 7 , 13 ): count 47\n",
      "(X,Y)=  1000 0001 =( 8 , 1 ): count 71\n",
      "(X,Y)=  1001 0111 =( 9 , 7 ): count 49\n",
      "(X,Y)=  1010 0100 =( 10 , 4 ): count 71\n",
      "(X,Y)=  1011 1101 =( 11 , 13 ): count 70\n",
      "(X,Y)=  1100 0001 =( 12 , 1 ): count 71\n",
      "(X,Y)=  1101 0111 =( 13 , 7 ): count 76\n",
      "(X,Y)=  1110 0100 =( 14 , 4 ): count 64\n",
      "(X,Y)=  1111 1101 =( 15 , 13 ): count 57\n"
     ]
    }
   ],
   "source": [
    "# Convert to (X,Y)  and verify that Y= 7^X mod 15\n",
    "\n",
    "scounts = sorted(counts.items(), key= lambda x:x[0][4:8]) # sort xbits\n",
    "\n",
    "for i in scounts:\n",
    "    k =i[0]\n",
    "    v= i[1]\n",
    "    ybits = k[0:4]  #get the y bits\n",
    "    xbits = k[4:8]  # get the x bits\n",
    "    print('(X,Y)= ', xbits,ybits, \"=(\", int(xbits,2), ',', int(ybits,2),'): count', v )\n",
    "    \n",
    "# period of 4\n"
   ]
  },
  {
   "cell_type": "code",
   "execution_count": null,
   "id": "65d73299",
   "metadata": {},
   "outputs": [],
   "source": []
  }
 ],
 "metadata": {
  "kernelspec": {
   "display_name": "Python 3 (ipykernel)",
   "language": "python",
   "name": "python3"
  },
  "language_info": {
   "codemirror_mode": {
    "name": "ipython",
    "version": 3
   },
   "file_extension": ".py",
   "mimetype": "text/x-python",
   "name": "python",
   "nbconvert_exporter": "python",
   "pygments_lexer": "ipython3",
   "version": "3.8.12"
  }
 },
 "nbformat": 4,
 "nbformat_minor": 5
}
