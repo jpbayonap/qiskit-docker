{
 "cells": [
  {
   "cell_type": "code",
   "execution_count": 1,
   "id": "1978bb7e",
   "metadata": {},
   "outputs": [],
   "source": [
    "from qiskit import QuantumRegister, ClassicalRegister, QuantumCircuit, execute, IBMQ\n",
    "from qiskit.tools.monitor import job_monitor\n",
    "IBMQ.enable_account('9f7c61e6f30929e942cbd5cc2c3c3654a3fee5407fbdafee4a547c1ed14f7610b9fdce8cd4aef13078d662b3a08ed3630ddd84d5f50323afe4fd9b2f07f8a41b')\n",
    "provider = IBMQ.get_provider(hub='ibm-q')\n"
   ]
  },
  {
   "cell_type": "code",
   "execution_count": 2,
   "id": "d8b0678e",
   "metadata": {},
   "outputs": [],
   "source": [
    "device = \"ibmq_qasm_simulator\"\n",
    "min_val = 0\n",
    "max_val = 100\n"
   ]
  },
  {
   "cell_type": "code",
   "execution_count": 3,
   "id": "636b1e53",
   "metadata": {},
   "outputs": [
    {
     "data": {
      "text/plain": [
       "<qiskit.circuit.instructionset.InstructionSet at 0x7f069903ca60>"
      ]
     },
     "execution_count": 3,
     "metadata": {},
     "output_type": "execute_result"
    }
   ],
   "source": [
    "backend = provider.get_backend(device)\n",
    "if device == \"ibmq_qasm_simulator\":\n",
    "    num_q = 32\n",
    "else:\n",
    "    num_q = 5\n",
    "    \n",
    "q = QuantumRegister(num_q, 'q')\n",
    "c = ClassicalRegister(num_q, 'c')\n",
    "circuit = QuantumCircuit(q, c)\n",
    "circuit.h(q)  # Applies hadamard gate to all qubits\n",
    "circuit.measure(q, c)  # Measures all qubits\n"
   ]
  },
  {
   "cell_type": "code",
   "execution_count": 4,
   "id": "83754ce3",
   "metadata": {},
   "outputs": [
    {
     "name": "stdout",
     "output_type": "stream",
     "text": [
      "Executing Job...\n",
      "\n",
      "Job Status: job has successfully run\n",
      "RESULT:  {'11110000111011000101011001110111': 1} \n",
      "\n",
      "Press any key to close\n",
      "67\n"
     ]
    }
   ],
   "source": [
    "job = execute(circuit, backend, shots=1)\n",
    "\n",
    "print('Executing Job...\\n')\n",
    "job_monitor(job)\n",
    "counts = job.result().get_counts()\n",
    "\n",
    "print('RESULT: ', counts, '\\n')\n",
    "print('Press any key to close')\n",
    "\n",
    "result = int(counts.most_frequent(), 2)\n",
    "\n",
    "\n",
    "result1 = min_val + result % (max_val +1 - min_val)\n",
    "\n",
    "print(result1)\n"
   ]
  },
  {
   "cell_type": "code",
   "execution_count": null,
   "id": "474f7826",
   "metadata": {},
   "outputs": [],
   "source": []
  }
 ],
 "metadata": {
  "kernelspec": {
   "display_name": "Python 3 (ipykernel)",
   "language": "python",
   "name": "python3"
  },
  "language_info": {
   "codemirror_mode": {
    "name": "ipython",
    "version": 3
   },
   "file_extension": ".py",
   "mimetype": "text/x-python",
   "name": "python",
   "nbconvert_exporter": "python",
   "pygments_lexer": "ipython3",
   "version": "3.8.12"
  }
 },
 "nbformat": 4,
 "nbformat_minor": 5
}
