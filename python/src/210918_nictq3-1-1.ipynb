{
 "cells": [
  {
   "cell_type": "code",
   "execution_count": 4,
   "id": "345043ff",
   "metadata": {},
   "outputs": [
    {
     "name": "stdout",
     "output_type": "stream",
     "text": [
      "Total count [q1,q0]: {'11': 267, '10': 229, '00': 253, '01': 251}\n"
     ]
    }
   ],
   "source": [
    "###NICT Quantum Camp 2021用コード\n",
    "###サンプルプログラムnictq3-1-1.py\n",
    "\n",
    "#必要なパッケージのインポート, Import the necessary libraries\n",
    "import numpy as np\n",
    "from qiskit import ClassicalRegister, QuantumRegister,QuantumCircuit,execute,Aer\n",
    "from qiskit.tools.visualization import circuit_drawer,plot_histogram\n",
    "\n",
    "#回路サイズの指定, Size of the circuit\n",
    "qr = QuantumRegister(2,'q') #2qubitの量子レジスタ\n",
    "cr = ClassicalRegister(2,'c') #2bitの古典レジスタ\n",
    "circuit = QuantumCircuit(qr,cr)\n",
    "\n",
    "###ここから量子回路の記述\n",
    "#量子ゲートの記述, Apply the quantum gates\n",
    "circuit.h(qr[0])\n",
    "circuit.h(qr[1])\n",
    "\n",
    "#測定命令の記述, measurement( send the qbit (j) towards the classical bit (j) )\n",
    "circuit.measure(qr[0],cr[0])\n",
    "circuit.measure(qr[1],cr[1])\n",
    "###ここまで量子回路の記述\n",
    "\n",
    "#シミュレーターの指定, select the simulator\n",
    "simulator = Aer.get_backend('qasm_simulator')\n",
    "#量子回路のシミュレーターを使った実行, Repeat circuit= #(shots) times\n",
    "job = execute(circuit, simulator, shots=1000)\n",
    "\n",
    "#測定結果の取り出し\n",
    "result = job.result()\n",
    "counts = result.get_counts(circuit)\n",
    "\n",
    "#測定結果のカウント表示, show the counts for each result\n",
    "print(\"Total count [q1,q0]:\",counts)\n",
    "\n",
    "#測定結果のヒストグラム出力, Plot the count results on a histogram\n",
    "plotgraph = plot_histogram(counts)\n",
    "plotgraph.savefig(\"measurement.png\",format=\"png\")\n",
    "\n",
    "#回路図のプロット, Plot the circuit scheme \n",
    "diagram = circuit.draw(output='mpl')\n",
    "diagram.savefig(\"circuit.png\",format=\"png\")\n",
    "\n",
    "\n"
   ]
  }
 ],
 "metadata": {
  "kernelspec": {
   "display_name": "Python 3 (ipykernel)",
   "language": "python",
   "name": "python3"
  },
  "language_info": {
   "codemirror_mode": {
    "name": "ipython",
    "version": 3
   },
   "file_extension": ".py",
   "mimetype": "text/x-python",
   "name": "python",
   "nbconvert_exporter": "python",
   "pygments_lexer": "ipython3",
   "version": "3.8.12"
  }
 },
 "nbformat": 4,
 "nbformat_minor": 5
}
